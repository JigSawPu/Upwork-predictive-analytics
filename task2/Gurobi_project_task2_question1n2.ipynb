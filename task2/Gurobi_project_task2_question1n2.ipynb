{
 "cells": [
  {
   "cell_type": "markdown",
   "id": "158c0919",
   "metadata": {},
   "source": [
    "<b>Import gurobipy module to perform optimization for linear programming problems</b>"
   ]
  },
  {
   "cell_type": "code",
   "execution_count": 1,
   "id": "7dfabb86",
   "metadata": {},
   "outputs": [],
   "source": [
    "from gurobipy import *"
   ]
  },
  {
   "attachments": {},
   "cell_type": "markdown",
   "id": "4b7e73bd",
   "metadata": {},
   "source": [
    "<b>Part 1: Value Com Electronics Production Maximization Problem</b>"
   ]
  },
  {
   "cell_type": "markdown",
   "id": "a1c06108",
   "metadata": {},
   "source": [
    "<p>Problem description: Value Com manufactures five different models of NIC for<br>\n",
    "Pcs and Desktops. Each NIC models requires specific amount of PCBs, resistors,<br>\n",
    "Memory chips and labor hours. We have to achieve desired production of minimum<br>\n",
    "500 units of each model while maximizing the profit.</p>"
   ]
  },
  {
   "cell_type": "markdown",
   "id": "b212d4ce",
   "metadata": {},
   "source": [
    "<b>Define the Gurobi model \"Value-Com-Electronics\"</b>"
   ]
  },
  {
   "cell_type": "code",
   "execution_count": 2,
   "id": "ba855987",
   "metadata": {},
   "outputs": [
    {
     "name": "stdout",
     "output_type": "stream",
     "text": [
      "Set parameter Username\n"
     ]
    }
   ],
   "source": [
    "model = Model('Value-Com-Electronics')"
   ]
  },
  {
   "attachments": {},
   "cell_type": "markdown",
   "id": "2d3be44c",
   "metadata": {},
   "source": [
    "<b>Add Variables to the model</b>"
   ]
  },
  {
   "cell_type": "code",
   "execution_count": 3,
   "id": "a54a95a8",
   "metadata": {},
   "outputs": [],
   "source": [
    "card1 = model.addVar(name='HyperLink')\n",
    "card2 = model.addVar(name='FastLink')\n",
    "card3 = model.addVar(name='SpeedLink')\n",
    "card4 = model.addVar(name='MicroLink')\n",
    "card5 = model.addVar(name='EtherLink')"
   ]
  },
  {
   "cell_type": "markdown",
   "id": "0ca0905e",
   "metadata": {},
   "source": [
    "<b>Set the objective function to get maximal profit.</b>"
   ]
  },
  {
   "cell_type": "code",
   "execution_count": 4,
   "id": "00ea6445",
   "metadata": {},
   "outputs": [],
   "source": [
    "model.setObjective(53*card1 + 48*card2 + 33*card3 + 32*card4 + 38*card5, GRB.MAXIMIZE)"
   ]
  },
  {
   "cell_type": "markdown",
   "id": "eb8747c2",
   "metadata": {},
   "source": [
    "<b>Add given linear constraints to the model. Since this is a linear programming<br>\n",
    "exercise, we will only consider linear constraints.</b>"
   ]
  },
  {
   "cell_type": "code",
   "execution_count": 5,
   "id": "aa34a032",
   "metadata": {},
   "outputs": [
    {
     "data": {
      "text/plain": [
       "<gurobi.Constr *Awaiting Model Update*>"
      ]
     },
     "execution_count": 5,
     "metadata": {},
     "output_type": "execute_result"
    }
   ],
   "source": [
    "model.addConstr(card1 >= 500, name='minimun no of HyperLink cards: ')\n",
    "model.addConstr(card2 >= 500, name='minimun no of FastLink cards: ')\n",
    "model.addConstr(card3 >= 500, name='minimun no of SpeedLink cards: ')\n",
    "model.addConstr(card4 >= 500, name='minimun no of MicroLink cards: ')\n",
    "model.addConstr(card5 >= 500, name='minimun no of EtherLink cards: ')\n",
    "model.addConstr(card2 == 2*card1, name='Produce twice FastLink as HyperLink ')\n",
    "model.addConstr(20*card1 + 15*card2 + 10*card3 + 8*card4 + 5*card5 <= 80000\n",
    ", name='minimun amount of pcb : ')\n",
    "model.addConstr(28*card1 + 24*card2 + 18*card3 + 12*card4 + 16*card5 <= 100000\n",
    ", name='minimun amount of resistors : ')\n",
    "model.addConstr(8*card1 + 8*card2 + 4*card3 + 4*card4 + 6*card5 <= 30000\n",
    ", name='minimun amount of memory chips : ')\n",
    "model.addConstr(0.75*card1 + 0.6*card2 + 0.5*card3 + 0.65*card4 + 1*card5 <= 5000\n",
    ", name='minimun amount of labor hours : ')\n"
   ]
  },
  {
   "cell_type": "markdown",
   "id": "b6be5bc0",
   "metadata": {},
   "source": [
    "<b>Save the model to a file named \"Value-Com-Electronics.lp\"</b>"
   ]
  },
  {
   "cell_type": "code",
   "execution_count": 6,
   "id": "c588542f",
   "metadata": {},
   "outputs": [
    {
     "name": "stdout",
     "output_type": "stream",
     "text": [
      "Warning: constraint name \"minimun no of HyperLink cards: \" has a space\n"
     ]
    }
   ],
   "source": [
    "model.write('Value-Com-Electronics.lp')"
   ]
  },
  {
   "cell_type": "markdown",
   "id": "a882aa07",
   "metadata": {},
   "source": [
    "<b>Use Gurobi optimizers to get the optimal solution</b>  "
   ]
  },
  {
   "cell_type": "code",
   "execution_count": 7,
   "id": "275ba2fc",
   "metadata": {},
   "outputs": [
    {
     "name": "stdout",
     "output_type": "stream",
     "text": [
      "Gurobi Optimizer version 10.0.1 build v10.0.1rc0 (win64)\n",
      "\n",
      "CPU model: Intel(R) Core(TM) i5-1035G7 CPU @ 1.20GHz, instruction set [SSE2|AVX|AVX2|AVX512]\n",
      "Thread count: 4 physical cores, 8 logical processors, using up to 8 threads\n",
      "\n",
      "Optimize a model with 10 rows, 5 columns and 27 nonzeros\n",
      "Model fingerprint: 0x2d5a1569\n",
      "Coefficient statistics:\n",
      "  Matrix range     [5e-01, 3e+01]\n",
      "  Objective range  [3e+01, 5e+01]\n",
      "  Bounds range     [0e+00, 0e+00]\n",
      "  RHS range        [5e+02, 1e+05]\n",
      "Presolve removed 6 rows and 1 columns\n",
      "Presolve time: 0.02s\n",
      "Presolved: 4 rows, 4 columns, 16 nonzeros\n",
      "\n",
      "Iteration    Objective       Primal Inf.    Dual Inf.      Time\n",
      "       0    4.5660000e+05   1.044779e+04   0.000000e+00      0s\n",
      "       4    2.1500000e+05   0.000000e+00   0.000000e+00      0s\n",
      "\n",
      "Solved in 4 iterations and 0.02 seconds (0.00 work units)\n",
      "Optimal objective  2.150000000e+05\n"
     ]
    }
   ],
   "source": [
    "model.optimize()"
   ]
  },
  {
   "cell_type": "markdown",
   "id": "b3a4db3f",
   "metadata": {},
   "source": [
    "<b>Print the Results</b>"
   ]
  },
  {
   "cell_type": "code",
   "execution_count": 9,
   "id": "a4fabcad",
   "metadata": {},
   "outputs": [
    {
     "name": "stdout",
     "output_type": "stream",
     "text": [
      "HyperLink 500.0\n",
      "FastLink 1000.0\n",
      "SpeedLink 1500.0\n",
      "MicroLink 2250.0\n",
      "EtherLink 500.0\n"
     ]
    }
   ],
   "source": [
    "for v in model.getVars():\n",
    "    print(v.varName, v.x)"
   ]
  },
  {
   "cell_type": "markdown",
   "id": "9c8e5ea0",
   "metadata": {},
   "source": [
    "<b>Summary</b>"
   ]
  },
  {
   "cell_type": "markdown",
   "id": "facce0c4",
   "metadata": {},
   "source": [
    "<p>Value Com can produce 500 HyperLink, 1000 FastLink<br>\n",
    "1500 SpeedLink, 2250 MicroLink and 500 EtherLink cards<br>\n",
    "to maximize its profits</p>"
   ]
  },
  {
   "cell_type": "markdown",
   "id": "5b3c0e05",
   "metadata": {},
   "source": [
    "<b>Part 2: Rent-a-dent company Transportation Cost Minimization problem</b>"
   ]
  },
  {
   "cell_type": "markdown",
   "id": "7ed89241",
   "metadata": {},
   "source": [
    "<p>Description: The company allows its customers to pick a rental car<br>\n",
    "from one location and return it to any of its locations. Given the cost<br>\n",
    "of transportation data between each of its locations. Find a optimal <br>\n",
    "solution to have atleast 5 cars at location 3,4,5 and 6 while minimizing<br>\n",
    "cost of transportation.</p>"
   ]
  },
  {
   "cell_type": "code",
   "execution_count": 20,
   "id": "6790da3b",
   "metadata": {},
   "outputs": [],
   "source": [
    "rent = Model('Rent-a-Dent')"
   ]
  },
  {
   "attachments": {},
   "cell_type": "markdown",
   "id": "3fda6dff",
   "metadata": {},
   "source": [
    "<b>Add Variables to the rent model</b>"
   ]
  },
  {
   "attachments": {},
   "cell_type": "markdown",
   "id": "aeba153e",
   "metadata": {},
   "source": [
    "<p>Here, xij represents no of cars sent from<br>\n",
    "location i to location j</p>"
   ]
  },
  {
   "cell_type": "code",
   "execution_count": 21,
   "id": "d52311ca",
   "metadata": {},
   "outputs": [],
   "source": [
    "x13 = rent.addVar(name=\"No. of cars sent from loc1 to loc3: \")\n",
    "x14 = rent.addVar(name=\"No. of cars sent from loc1 to loc4: \")\n",
    "x15 = rent.addVar(name=\"No. of cars sent from loc1 to loc5: \")\n",
    "x16 = rent.addVar(name=\"No. of cars sent from loc1 to loc6: \")\n",
    "x23 = rent.addVar(name=\"No. of cars sent from loc2 to loc3: \")\n",
    "x24 = rent.addVar(name=\"No. of cars sent from loc2 to loc4: \")\n",
    "x25 = rent.addVar(name=\"No. of cars sent from loc2 to loc5: \")\n",
    "x26 = rent.addVar(name=\"No. of cars sent from loc2 to loc6: \")"
   ]
  },
  {
   "attachments": {},
   "cell_type": "markdown",
   "id": "8b152065",
   "metadata": {},
   "source": [
    "<b>Set the Objective function for the model</b>"
   ]
  },
  {
   "cell_type": "code",
   "execution_count": 22,
   "id": "699b9d7d",
   "metadata": {},
   "outputs": [],
   "source": [
    "rent.setObjective(54*x13 + 17*x14 + 23*x15 + 30*x16 + 24*x23 + 18*x24 + 19*x25 + 31*x26, GRB.MINIMIZE)"
   ]
  },
  {
   "attachments": {},
   "cell_type": "markdown",
   "id": "e7c2d406",
   "metadata": {},
   "source": [
    "<b>Add the constraints given in the problem statement</b>"
   ]
  },
  {
   "cell_type": "code",
   "execution_count": 28,
   "id": "12480513",
   "metadata": {},
   "outputs": [
    {
     "data": {
      "text/plain": [
       "<gurobi.Constr *Awaiting Model Update*>"
      ]
     },
     "execution_count": 28,
     "metadata": {},
     "output_type": "execute_result"
    }
   ],
   "source": [
    "rent.addConstr(x13 + x14 + x15 + x16 == 16, name='No. of Surplus cars at location 1 ')\n",
    "rent.addConstr(x23 + x24 + x25 + x26 == 18, name='No. of Surplus cars at location 2 ')\n",
    "rent.addConstr(x13 + x23 >= 5 , name='Min. Cars sent to location 1 ')\n",
    "rent.addConstr(x13 + x23 <= 10 , name='Max. Cars sent to location 1  ')\n",
    "rent.addConstr(x14 + x24 >= 5 , name='Min. Cars sent to location 2 ')\n",
    "rent.addConstr(x14 + x24 >= 10 , name='Max. Cars sent to location 2 ')\n",
    "rent.addConstr(x15 + x25 >= 5 , name='Min. Cars sent to location 3 ')\n",
    "rent.addConstr(x15 + x25 <= 10 , name='Max. Cars sent to location 3 ')\n",
    "rent.addConstr(x16 + x26 >= 5 , name='Min. Cars sent to location 4 ')\n",
    "rent.addConstr(x16 + x26 <= 10 , name='Max. Cars sent to location 4 ')"
   ]
  },
  {
   "attachments": {},
   "cell_type": "markdown",
   "id": "f4a374fe",
   "metadata": {},
   "source": [
    "<b>Save the model to a file named \"rent-a-dent.lp\"</b>"
   ]
  },
  {
   "cell_type": "code",
   "execution_count": 29,
   "id": "7c55ff32",
   "metadata": {},
   "outputs": [
    {
     "name": "stdout",
     "output_type": "stream",
     "text": [
      "Warning: variable name \"No. of cars sent from loc1 to loc3: \" has a space\n",
      "Warning: constraint name \"No. of Surplus cars at location 1 \" has a space\n",
      "Warning: to let Gurobi read it back, use rlp format\n"
     ]
    }
   ],
   "source": [
    "rent.write('rent-a-dent.lp')"
   ]
  },
  {
   "attachments": {},
   "cell_type": "markdown",
   "id": "824ea1ff",
   "metadata": {},
   "source": [
    "<b>Perform Optimizations</b>"
   ]
  },
  {
   "cell_type": "code",
   "execution_count": 30,
   "id": "6716b6c0",
   "metadata": {},
   "outputs": [
    {
     "name": "stdout",
     "output_type": "stream",
     "text": [
      "Gurobi Optimizer version 10.0.1 build v10.0.1rc0 (win64)\n",
      "\n",
      "CPU model: Intel(R) Core(TM) i5-1035G7 CPU @ 1.20GHz, instruction set [SSE2|AVX|AVX2|AVX512]\n",
      "Thread count: 4 physical cores, 8 logical processors, using up to 8 threads\n",
      "\n",
      "Optimize a model with 23 rows, 8 columns and 68 nonzeros\n",
      "Model fingerprint: 0x87174973\n",
      "Coefficient statistics:\n",
      "  Matrix range     [1e+00, 1e+00]\n",
      "  Objective range  [2e+01, 5e+01]\n",
      "  Bounds range     [0e+00, 0e+00]\n",
      "  RHS range        [5e+00, 2e+01]\n",
      "Presolve removed 17 rows and 0 columns\n",
      "Presolve time: 0.01s\n",
      "Presolved: 6 rows, 11 columns, 19 nonzeros\n",
      "\n",
      "Iteration    Objective       Primal Inf.    Dual Inf.      Time\n",
      "       0    0.0000000e+00   2.950000e+01   0.000000e+00      0s\n",
      "       5    6.9600000e+02   0.000000e+00   0.000000e+00      0s\n",
      "\n",
      "Solved in 5 iterations and 0.01 seconds (0.00 work units)\n",
      "Optimal objective  6.960000000e+02\n"
     ]
    }
   ],
   "source": [
    "rent.optimize()"
   ]
  },
  {
   "attachments": {},
   "cell_type": "markdown",
   "id": "d5de6cc8",
   "metadata": {},
   "source": [
    "<b>Print the results</b>"
   ]
  },
  {
   "cell_type": "code",
   "execution_count": 31,
   "id": "6ea71e7f",
   "metadata": {},
   "outputs": [
    {
     "name": "stdout",
     "output_type": "stream",
     "text": [
      "No. of cars sent from loc1 to loc3:  0.0\n",
      "No. of cars sent from loc1 to loc4:  11.0\n",
      "No. of cars sent from loc1 to loc5:  0.0\n",
      "No. of cars sent from loc1 to loc6:  5.0\n",
      "No. of cars sent from loc2 to loc3:  5.0\n",
      "No. of cars sent from loc2 to loc4:  8.0\n",
      "No. of cars sent from loc2 to loc5:  5.0\n",
      "No. of cars sent from loc2 to loc6:  0.0\n"
     ]
    }
   ],
   "source": [
    "for v in rent.getVars():\n",
    "    print(v.varName, v.x)"
   ]
  },
  {
   "attachments": {},
   "cell_type": "markdown",
   "id": "dbe9afa9",
   "metadata": {},
   "source": [
    "<b>Summary</b>"
   ]
  },
  {
   "attachments": {},
   "cell_type": "markdown",
   "id": "0491c7aa",
   "metadata": {},
   "source": [
    "<p>To minimize Cost of Transportations,<br>Rent-a-dent needs to send:<br>\n",
    "<li><em>11 cars from location 1 to 4<br></em></li>\n",
    "<li><em>5 cars from location 1 to 6<br></em></li>\n",
    "<li><em>5 cars from location 2 to 3<br></em></li>\n",
    "<li><em>8 cars from location 2 to 4<br></em></li>\n",
    "<li><em>5 cars from location 5 to 5<br></em></li></p>"
   ]
  }
 ],
 "metadata": {
  "kernelspec": {
   "display_name": "Python 3 (ipykernel)",
   "language": "python",
   "name": "python3"
  },
  "language_info": {
   "codemirror_mode": {
    "name": "ipython",
    "version": 3
   },
   "file_extension": ".py",
   "mimetype": "text/x-python",
   "name": "python",
   "nbconvert_exporter": "python",
   "pygments_lexer": "ipython3",
   "version": "3.11.2"
  }
 },
 "nbformat": 4,
 "nbformat_minor": 5
}
