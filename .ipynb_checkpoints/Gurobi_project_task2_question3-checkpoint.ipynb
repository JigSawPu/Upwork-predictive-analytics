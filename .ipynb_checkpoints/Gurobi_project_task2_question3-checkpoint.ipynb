{
 "cells": [
  {
   "cell_type": "code",
   "execution_count": 2,
   "id": "c500f158",
   "metadata": {},
   "outputs": [],
   "source": [
    "from gurobipy import *"
   ]
  },
  {
   "cell_type": "code",
   "execution_count": 3,
   "id": "edef243a",
   "metadata": {},
   "outputs": [
    {
     "name": "stdout",
     "output_type": "stream",
     "text": [
      "Set parameter Username\n"
     ]
    }
   ],
   "source": [
    "college = Model('mitty')"
   ]
  },
  {
   "cell_type": "code",
   "execution_count": 4,
   "id": "bb17b69f",
   "metadata": {},
   "outputs": [],
   "source": [
    "A = college.addVar(name='Investment A')"
   ]
  },
  {
   "cell_type": "code",
   "execution_count": 5,
   "id": "bba50c13",
   "metadata": {},
   "outputs": [],
   "source": [
    "B = college.addVar(name='Investment B')"
   ]
  },
  {
   "cell_type": "code",
   "execution_count": 6,
   "id": "842adc50",
   "metadata": {},
   "outputs": [],
   "source": [
    "C = college.addVar(name='Investment C')"
   ]
  },
  {
   "cell_type": "code",
   "execution_count": 7,
   "id": "92c47b07",
   "metadata": {},
   "outputs": [],
   "source": [
    "D = college.addVar(name='Investment D')"
   ]
  },
  {
   "cell_type": "code",
   "execution_count": 8,
   "id": "9d66be0f",
   "metadata": {},
   "outputs": [],
   "source": [
    "college.setObjective(A+B+C+D, GRB.MINIMIZE)"
   ]
  },
  {
   "cell_type": "code",
   "execution_count": 9,
   "id": "e41a4744",
   "metadata": {},
   "outputs": [
    {
     "data": {
      "text/plain": [
       "<gurobi.Constr *Awaiting Model Update*>"
      ]
     },
     "execution_count": 9,
     "metadata": {},
     "output_type": "execute_result"
    }
   ],
   "source": [
    "college.addConstr((1.06**8)*A + (1.14**4)*B + (1.18**2)*C + (1.65)*D >= 42000, name='total sum') "
   ]
  },
  {
   "cell_type": "code",
   "execution_count": 11,
   "id": "01fc7333",
   "metadata": {},
   "outputs": [
    {
     "data": {
      "text/plain": [
       "<gurobi.Constr *Awaiting Model Update*>"
      ]
     },
     "execution_count": 11,
     "metadata": {},
     "output_type": "execute_result"
    }
   ],
   "source": [
    "college.addConstr(A >= 100, name='min a')"
   ]
  },
  {
   "cell_type": "code",
   "execution_count": 12,
   "id": "07ae3010",
   "metadata": {},
   "outputs": [
    {
     "data": {
      "text/plain": [
       "<gurobi.Constr *Awaiting Model Update*>"
      ]
     },
     "execution_count": 12,
     "metadata": {},
     "output_type": "execute_result"
    }
   ],
   "source": [
    "college.addConstr(B >= 100, name='min b')\n",
    "college.addConstr(C >= 100, name='min c')\n",
    "college.addConstr(D >= 100, name='min d')"
   ]
  },
  {
   "cell_type": "code",
   "execution_count": 13,
   "id": "872525b0",
   "metadata": {},
   "outputs": [
    {
     "name": "stdout",
     "output_type": "stream",
     "text": [
      "Warning: variable name \"Investment A\" has a space\n",
      "Warning: constraint name \"min a\" has a space\n",
      "Warning: to let Gurobi read it back, use rlp format\n"
     ]
    }
   ],
   "source": [
    "college.write('fred-sally.lp')"
   ]
  },
  {
   "cell_type": "code",
   "execution_count": 14,
   "id": "575d5601",
   "metadata": {},
   "outputs": [
    {
     "name": "stdout",
     "output_type": "stream",
     "text": [
      "Gurobi Optimizer version 10.0.1 build v10.0.1rc0 (win64)\n",
      "\n",
      "CPU model: Intel(R) Core(TM) i5-1035G7 CPU @ 1.20GHz, instruction set [SSE2|AVX|AVX2|AVX512]\n",
      "Thread count: 4 physical cores, 8 logical processors, using up to 8 threads\n",
      "\n",
      "Optimize a model with 5 rows, 4 columns and 8 nonzeros\n",
      "Model fingerprint: 0x089e3d6c\n",
      "Coefficient statistics:\n",
      "  Matrix range     [1e+00, 2e+00]\n",
      "  Objective range  [1e+00, 1e+00]\n",
      "  Bounds range     [0e+00, 0e+00]\n",
      "  RHS range        [1e+02, 4e+04]\n",
      "Presolve removed 5 rows and 4 columns\n",
      "Presolve time: 0.02s\n",
      "Presolve: All rows and columns removed\n",
      "Iteration    Objective       Primal Inf.    Dual Inf.      Time\n",
      "       0    2.4892869e+04   0.000000e+00   0.000000e+00      0s\n",
      "\n",
      "Solved in 0 iterations and 0.02 seconds (0.00 work units)\n",
      "Optimal objective  2.489286854e+04\n"
     ]
    }
   ],
   "source": [
    "college.optimize()"
   ]
  },
  {
   "cell_type": "code",
   "execution_count": 15,
   "id": "34a69312",
   "metadata": {},
   "outputs": [
    {
     "data": {
      "text/plain": [
       "[<gurobi.Var Investment A (value 100.0)>,\n",
       " <gurobi.Var Investment B (value 24592.868544955454)>,\n",
       " <gurobi.Var Investment C (value 100.0)>,\n",
       " <gurobi.Var Investment D (value 100.0)>]"
      ]
     },
     "execution_count": 15,
     "metadata": {},
     "output_type": "execute_result"
    }
   ],
   "source": [
    "college.getVars()"
   ]
  },
  {
   "cell_type": "code",
   "execution_count": null,
   "id": "f3aa4ea2",
   "metadata": {},
   "outputs": [],
   "source": []
  }
 ],
 "metadata": {
  "kernelspec": {
   "display_name": "Python 3 (ipykernel)",
   "language": "python",
   "name": "python3"
  },
  "language_info": {
   "codemirror_mode": {
    "name": "ipython",
    "version": 3
   },
   "file_extension": ".py",
   "mimetype": "text/x-python",
   "name": "python",
   "nbconvert_exporter": "python",
   "pygments_lexer": "ipython3",
   "version": "3.11.2"
  }
 },
 "nbformat": 4,
 "nbformat_minor": 5
}
