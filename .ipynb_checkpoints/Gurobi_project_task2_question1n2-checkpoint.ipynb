{
 "cells": [
  {
   "cell_type": "markdown",
   "id": "158c0919",
   "metadata": {},
   "source": [
    "<b>Import gurobipy module to perform optimization for linear programming problems</b>"
   ]
  },
  {
   "cell_type": "code",
   "execution_count": 3,
   "id": "7dfabb86",
   "metadata": {},
   "outputs": [],
   "source": [
    "from gurobipy import *"
   ]
  },
  {
   "cell_type": "markdown",
   "id": "4b7e73bd",
   "metadata": {},
   "source": [
    "<b>Part 1: Value Com Elcectronics Production Maximization Problem</b>"
   ]
  },
  {
   "cell_type": "markdown",
   "id": "a1c06108",
   "metadata": {},
   "source": [
    "<p>Problem description: Value Com manufactures five different models of NIC for<br>\n",
    "Pcs and Desktops. Each NIC models requires specific amount of PCBs, resistors,<br>\n",
    "Memory chips and labor hours. We have to achieve desired production of minimum<br>\n",
    "500 units of each model while maximizing the profit.</p>"
   ]
  },
  {
   "cell_type": "markdown",
   "id": "b212d4ce",
   "metadata": {},
   "source": [
    "<b>Define the Gurobi model \"Value-Com-Electronics\"</b>"
   ]
  },
  {
   "cell_type": "code",
   "execution_count": 4,
   "id": "ba855987",
   "metadata": {},
   "outputs": [
    {
     "name": "stdout",
     "output_type": "stream",
     "text": [
      "Set parameter Username\n"
     ]
    }
   ],
   "source": [
    "model = Model('Value-Com-Electronics')"
   ]
  },
  {
   "cell_type": "markdown",
   "id": "2d3be44c",
   "metadata": {},
   "source": [
    "<b>Add Varibles to the model</b>"
   ]
  },
  {
   "cell_type": "code",
   "execution_count": 5,
   "id": "a54a95a8",
   "metadata": {},
   "outputs": [],
   "source": [
    "card1 = model.addVar(name='HyperLink')\n",
    "card2 = model.addVar(name='FastLink')\n",
    "card3 = model.addVar(name='SpeedLink')\n",
    "card4 = model.addVar(name='MicroLink')\n",
    "card5 = model.addVar(name='EtherLink')"
   ]
  },
  {
   "cell_type": "markdown",
   "id": "0ca0905e",
   "metadata": {},
   "source": [
    "<b>Set the objective function to get maximal profit.</b>"
   ]
  },
  {
   "cell_type": "code",
   "execution_count": 6,
   "id": "00ea6445",
   "metadata": {},
   "outputs": [],
   "source": [
    "model.setObjective(53*card1 + 48*card2 + 33*card3 + 32*card4 + 38*card5, GRB.MAXIMIZE)"
   ]
  },
  {
   "cell_type": "markdown",
   "id": "eb8747c2",
   "metadata": {},
   "source": [
    "<b>Add given linear constraints to the model. Since this is a linear programming<br>\n",
    "exercise, we will only consider linear constraints.</b>"
   ]
  },
  {
   "cell_type": "code",
   "execution_count": 7,
   "id": "aa34a032",
   "metadata": {},
   "outputs": [
    {
     "data": {
      "text/plain": [
       "<gurobi.Constr *Awaiting Model Update*>"
      ]
     },
     "execution_count": 7,
     "metadata": {},
     "output_type": "execute_result"
    }
   ],
   "source": [
    "model.addConstr(card1 >= 500, name='minimun no of HyperLink cards: ')\n",
    "model.addConstr(card2 >= 500, name='minimun no of FastLink cards: ')\n",
    "model.addConstr(card3 >= 500, name='minimun no of SpeedLink cards: ')\n",
    "model.addConstr(card4 >= 500, name='minimun no of MicroLink cards: ')\n",
    "model.addConstr(card5 >= 500, name='minimun no of EtherLink cards: ')\n",
    "model.addConstr(card2 == 2*card1, name='Produce twice FastLink as HyperLink ')\n",
    "model.addConstr(20*card1 + 15*card2 + 10*card3 + 8*card4 + 5*card5 <= 80000, name='minimun amount of pcb : ')\n",
    "model.addConstr(28*card1 + 24*card2 + 18*card3 + 12*card4 + 16*card5 <= 100000, name='minimun amount of resistors : ')\n",
    "model.addConstr(8*card1 + 8*card2 + 4*card3 + 4*card4 + 6*card5 <= 30000, name='minimun amount of memory chips : ')\n",
    "model.addConstr(0.75*card1 + 0.6*card2 + 0.5*card3 + 0.65*card4 + 1*card5 <= 5000, name='minimun amount of labor hours : ')\n"
   ]
  },
  {
   "cell_type": "markdown",
   "id": "b6be5bc0",
   "metadata": {},
   "source": [
    "<b>Save the model to a file named \"Value-Com-Electronics.lp\"</b>"
   ]
  },
  {
   "cell_type": "code",
   "execution_count": 8,
   "id": "c588542f",
   "metadata": {},
   "outputs": [
    {
     "name": "stdout",
     "output_type": "stream",
     "text": [
      "Warning: constraint name \"minimun no of HyperLink cards: \" has a space\n"
     ]
    }
   ],
   "source": [
    "model.write('Value-Com-Electronics.lp')"
   ]
  },
  {
   "cell_type": "markdown",
   "id": "a882aa07",
   "metadata": {},
   "source": [
    "<b>Use Gurobi optimizers to get the optimal solution</b>  "
   ]
  },
  {
   "cell_type": "code",
   "execution_count": 14,
   "id": "275ba2fc",
   "metadata": {},
   "outputs": [
    {
     "name": "stdout",
     "output_type": "stream",
     "text": [
      "Gurobi Optimizer version 10.0.1 build v10.0.1rc0 (win64)\n",
      "\n",
      "CPU model: Intel(R) Core(TM) i5-1035G7 CPU @ 1.20GHz, instruction set [SSE2|AVX|AVX2|AVX512]\n",
      "Thread count: 4 physical cores, 8 logical processors, using up to 8 threads\n",
      "\n",
      "Optimize a model with 10 rows, 5 columns and 27 nonzeros\n",
      "Model fingerprint: 0x2d5a1569\n",
      "Coefficient statistics:\n",
      "  Matrix range     [5e-01, 3e+01]\n",
      "  Objective range  [3e+01, 5e+01]\n",
      "  Bounds range     [0e+00, 0e+00]\n",
      "  RHS range        [5e+02, 1e+05]\n",
      "Presolve removed 6 rows and 1 columns\n",
      "Presolve time: 0.02s\n",
      "Presolved: 4 rows, 4 columns, 16 nonzeros\n",
      "\n",
      "Iteration    Objective       Primal Inf.    Dual Inf.      Time\n",
      "       0    4.5660000e+05   1.044779e+04   0.000000e+00      0s\n",
      "       4    2.1500000e+05   0.000000e+00   0.000000e+00      0s\n",
      "\n",
      "Solved in 4 iterations and 0.05 seconds (0.00 work units)\n",
      "Optimal objective  2.150000000e+05\n"
     ]
    }
   ],
   "source": [
    "model.optimize()"
   ]
  },
  {
   "cell_type": "markdown",
   "id": "b3a4db3f",
   "metadata": {},
   "source": [
    "<b>Print the Results</b>"
   ]
  },
  {
   "cell_type": "code",
   "execution_count": 16,
   "id": "b4253f96",
   "metadata": {},
   "outputs": [
    {
     "data": {
      "text/plain": [
       "[<gurobi.Var HyperLink (value 500.0)>,\n",
       " <gurobi.Var FastLink (value 1000.0)>,\n",
       " <gurobi.Var SpeedLink (value 1500.0)>,\n",
       " <gurobi.Var MicroLink (value 2250.0)>,\n",
       " <gurobi.Var EtherLink (value 500.0)>]"
      ]
     },
     "execution_count": 16,
     "metadata": {},
     "output_type": "execute_result"
    }
   ],
   "source": [
    "model.getVars()"
   ]
  },
  {
   "cell_type": "code",
   "execution_count": 17,
   "id": "a4fabcad",
   "metadata": {},
   "outputs": [
    {
     "name": "stdout",
     "output_type": "stream",
     "text": [
      "HyperLink 500.0\n",
      "FastLink 1000.0\n",
      "SpeedLink 1500.0\n",
      "MicroLink 2250.0\n",
      "EtherLink 500.0\n"
     ]
    }
   ],
   "source": [
    "for v in model.getVars():\n",
    "    print(v.varName, v.x)"
   ]
  },
  {
   "cell_type": "markdown",
   "id": "9c8e5ea0",
   "metadata": {},
   "source": [
    "<b>Summary</b>"
   ]
  },
  {
   "cell_type": "markdown",
   "id": "facce0c4",
   "metadata": {},
   "source": [
    "<p>Value Com can produce 500 HyperLink, 1000 FastLink<br>\n",
    "1500 SpeedLink, 2250 MicroLink and 500 EtherLink cards<br>\n",
    "to maximize its profits</p>"
   ]
  },
  {
   "cell_type": "markdown",
   "id": "5b3c0e05",
   "metadata": {},
   "source": [
    "<b>Part 2: Rent-a-dent company Transportation Cost Minimization problem</b>"
   ]
  },
  {
   "cell_type": "markdown",
   "id": "7ed89241",
   "metadata": {},
   "source": [
    "<p>Description: The company allows its customers to pick a rental car<br>\n",
    "from one location and return it to any of its locations. Given the cost<br>\n",
    "of transportation data between each of its locations. Find a optimal <br>\n",
    "solution to have atleast 5 cars at location 3,4,5 and 6 while minimizing<br>\n",
    "cost of transportation.</p>"
   ]
  },
  {
   "cell_type": "code",
   "execution_count": 25,
   "id": "6790da3b",
   "metadata": {},
   "outputs": [],
   "source": [
    "rent = Model('Rent-a-Dent')"
   ]
  },
  {
   "cell_type": "code",
   "execution_count": 26,
   "id": "48873656",
   "metadata": {},
   "outputs": [],
   "source": [
    "n3 = rent.addVar(name='num cars to send to location 3')"
   ]
  },
  {
   "cell_type": "code",
   "execution_count": 27,
   "id": "d52311ca",
   "metadata": {},
   "outputs": [],
   "source": [
    "n4 = rent.addVar(name='num cars to send to location 4:')\n",
    "n5 = rent.addVar(name='num cars to send to location 5:')\n",
    "n6 = rent.addVar(name='num cars to send to location 6:')"
   ]
  },
  {
   "cell_type": "code",
   "execution_count": 28,
   "id": "699b9d7d",
   "metadata": {},
   "outputs": [],
   "source": [
    "rent.setObjective(24*n3 + 17*n4 + 19*n5 + 30*n6, GRB.MINIMIZE)"
   ]
  },
  {
   "cell_type": "code",
   "execution_count": 29,
   "id": "296583a2",
   "metadata": {},
   "outputs": [
    {
     "data": {
      "text/plain": [
       "<gurobi.Constr *Awaiting Model Update*>"
      ]
     },
     "execution_count": 29,
     "metadata": {},
     "output_type": "execute_result"
    }
   ],
   "source": [
    "rent.addConstr(n3 >= 5, name='min n3')"
   ]
  },
  {
   "cell_type": "code",
   "execution_count": 30,
   "id": "12480513",
   "metadata": {},
   "outputs": [
    {
     "data": {
      "text/plain": [
       "<gurobi.Constr *Awaiting Model Update*>"
      ]
     },
     "execution_count": 30,
     "metadata": {},
     "output_type": "execute_result"
    }
   ],
   "source": [
    "rent.addConstr(n4 >= 5, name='min n4')\n",
    "rent.addConstr(n5 >= 5, name='min n5')\n",
    "rent.addConstr(n6 >= 5, name='min n6')\n",
    "rent.addConstr(n3+n4+n5+n6 == 34)"
   ]
  },
  {
   "cell_type": "code",
   "execution_count": 31,
   "id": "7c55ff32",
   "metadata": {},
   "outputs": [
    {
     "name": "stdout",
     "output_type": "stream",
     "text": [
      "Warning: variable name \"num cars to send to location 3\" has a space\n",
      "Warning: constraint name \"min n3\" has a space\n",
      "Warning: to let Gurobi read it back, use rlp format\n"
     ]
    }
   ],
   "source": [
    "rent.write('rent-a-dent.lp')"
   ]
  },
  {
   "cell_type": "code",
   "execution_count": 32,
   "id": "6716b6c0",
   "metadata": {},
   "outputs": [
    {
     "name": "stdout",
     "output_type": "stream",
     "text": [
      "Gurobi Optimizer version 10.0.1 build v10.0.1rc0 (win64)\n",
      "\n",
      "CPU model: Intel(R) Core(TM) i5-1035G7 CPU @ 1.20GHz, instruction set [SSE2|AVX|AVX2|AVX512]\n",
      "Thread count: 4 physical cores, 8 logical processors, using up to 8 threads\n",
      "\n",
      "Optimize a model with 5 rows, 4 columns and 8 nonzeros\n",
      "Model fingerprint: 0x94f96326\n",
      "Coefficient statistics:\n",
      "  Matrix range     [1e+00, 1e+00]\n",
      "  Objective range  [2e+01, 3e+01]\n",
      "  Bounds range     [0e+00, 0e+00]\n",
      "  RHS range        [5e+00, 3e+01]\n",
      "Presolve removed 5 rows and 4 columns\n",
      "Presolve time: 0.01s\n",
      "Presolve: All rows and columns removed\n",
      "Iteration    Objective       Primal Inf.    Dual Inf.      Time\n",
      "       0    6.8800000e+02   0.000000e+00   0.000000e+00      0s\n",
      "\n",
      "Solved in 0 iterations and 0.01 seconds (0.00 work units)\n",
      "Optimal objective  6.880000000e+02\n"
     ]
    }
   ],
   "source": [
    "rent.optimize()"
   ]
  },
  {
   "cell_type": "code",
   "execution_count": 33,
   "id": "abc0426c",
   "metadata": {},
   "outputs": [
    {
     "data": {
      "text/plain": [
       "[<gurobi.Var num cars to send to location 3 (value 5.0)>,\n",
       " <gurobi.Var num cars to send to location 4: (value 19.0)>,\n",
       " <gurobi.Var num cars to send to location 5: (value 5.0)>,\n",
       " <gurobi.Var num cars to send to location 6: (value 5.0)>]"
      ]
     },
     "execution_count": 33,
     "metadata": {},
     "output_type": "execute_result"
    }
   ],
   "source": [
    "rent.getVars()"
   ]
  },
  {
   "cell_type": "code",
   "execution_count": 34,
   "id": "6ea71e7f",
   "metadata": {},
   "outputs": [
    {
     "name": "stdout",
     "output_type": "stream",
     "text": [
      "num cars to send to location 3 5.0\n",
      "num cars to send to location 4: 19.0\n",
      "num cars to send to location 5: 5.0\n",
      "num cars to send to location 6: 5.0\n"
     ]
    }
   ],
   "source": [
    "for v in rent.getVars():\n",
    "    print(v.varName, v.x)"
   ]
  },
  {
   "cell_type": "code",
   "execution_count": null,
   "id": "5eb066bd",
   "metadata": {},
   "outputs": [],
   "source": []
  }
 ],
 "metadata": {
  "kernelspec": {
   "display_name": "Python 3 (ipykernel)",
   "language": "python",
   "name": "python3"
  },
  "language_info": {
   "codemirror_mode": {
    "name": "ipython",
    "version": 3
   },
   "file_extension": ".py",
   "mimetype": "text/x-python",
   "name": "python",
   "nbconvert_exporter": "python",
   "pygments_lexer": "ipython3",
   "version": "3.11.2"
  }
 },
 "nbformat": 4,
 "nbformat_minor": 5
}
