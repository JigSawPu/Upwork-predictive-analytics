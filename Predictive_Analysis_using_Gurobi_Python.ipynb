{
 "cells": [
  {
   "cell_type": "markdown",
   "id": "dc728cd0",
   "metadata": {},
   "source": [
    "<b>Import gurobipy module to perform optimization for linear programming problems</b>"
   ]
  },
  {
   "cell_type": "code",
   "execution_count": 36,
   "id": "e4090f2c",
   "metadata": {},
   "outputs": [],
   "source": [
    "from gurobipy import *"
   ]
  },
  {
   "cell_type": "markdown",
   "id": "d3993092",
   "metadata": {},
   "source": [
    "<b>Part 1: American auto marketing cost minimizaiton problem</b>"
   ]
  },
  {
   "cell_type": "markdown",
   "id": "7af18f02",
   "metadata": {},
   "source": [
    "<b>First, define the Gurobi model</b>"
   ]
  },
  {
   "cell_type": "code",
   "execution_count": 37,
   "id": "8221acbe",
   "metadata": {},
   "outputs": [],
   "source": [
    "#Gurobi model initialization for American auto problem\n",
    "auto = Model('auto')"
   ]
  },
  {
   "cell_type": "markdown",
   "id": "01defdfa",
   "metadata": {},
   "source": [
    "<b>Add Variables to the model and give a name for the variable</b>"
   ]
  },
  {
   "cell_type": "code",
   "execution_count": 38,
   "id": "86597f00",
   "metadata": {},
   "outputs": [],
   "source": [
    "#Defining variable for No of Commercials\n",
    "x = auto.addVar(name=\"Number of Commercials to run\")"
   ]
  },
  {
   "cell_type": "code",
   "execution_count": 39,
   "id": "e33b0efa",
   "metadata": {},
   "outputs": [],
   "source": [
    "#Defining variable for No of Ads\n",
    "y = auto.addVar(name=\"Number of Magazine Ads to run\")"
   ]
  },
  {
   "cell_type": "markdown",
   "id": "576e165c",
   "metadata": {},
   "source": [
    "<b>Set the Objective function</b>"
   ]
  },
  {
   "cell_type": "code",
   "execution_count": 40,
   "id": "5962a42a",
   "metadata": {},
   "outputs": [],
   "source": [
    "auto.setObjective(500000*x + 750000*y, GRB.MINIMIZE)"
   ]
  },
  {
   "cell_type": "markdown",
   "id": "791df9c3",
   "metadata": {},
   "source": [
    "<b>Use addConstr method to add constraints to model</b>"
   ]
  },
  {
   "cell_type": "code",
   "execution_count": 41,
   "id": "accd4eeb",
   "metadata": {},
   "outputs": [
    {
     "data": {
      "text/plain": [
       "<gurobi.Constr *Awaiting Model Update*>"
      ]
     },
     "execution_count": 41,
     "metadata": {},
     "output_type": "execute_result"
    }
   ],
   "source": [
    "#Setting the constraints\n",
    "auto.addConstr(0.0*x + 0.02*y >= 0.03, name=\"Sedan_sales_target\")\n",
    "auto.addConstr(0.03*x + 0.01*y >= 0.14, name=\"SUV_sales_target\")\n",
    "auto.addConstr(-0.01*x + 0.04*y >= 0.04, name=\"Truck_sales_target\")"
   ]
  },
  {
   "cell_type": "markdown",
   "id": "20504960",
   "metadata": {},
   "source": [
    "<b>Save the model to a file</b>"
   ]
  },
  {
   "cell_type": "code",
   "execution_count": 42,
   "id": "48645709",
   "metadata": {},
   "outputs": [
    {
     "name": "stdout",
     "output_type": "stream",
     "text": [
      "Warning: variable name \"Number of Commercials to run\" has a space\n",
      "Warning: to let Gurobi read it back, use rlp format\n"
     ]
    }
   ],
   "source": [
    "#Save the model to a file named American-Auto.lp\n",
    "auto.write('American-Auto.lp')"
   ]
  },
  {
   "cell_type": "markdown",
   "id": "d1ec7389",
   "metadata": {},
   "source": [
    "<b>Perform Optimization to find minimum number of commercials and magazine ads to run to get the target sales</b>"
   ]
  },
  {
   "cell_type": "code",
   "execution_count": 43,
   "id": "14ae8093",
   "metadata": {},
   "outputs": [
    {
     "name": "stdout",
     "output_type": "stream",
     "text": [
      "Gurobi Optimizer version 10.0.1 build v10.0.1rc0 (win64)\n",
      "\n",
      "CPU model: Intel(R) Core(TM) i5-1035G7 CPU @ 1.20GHz, instruction set [SSE2|AVX|AVX2|AVX512]\n",
      "Thread count: 4 physical cores, 8 logical processors, using up to 8 threads\n",
      "\n",
      "Optimize a model with 3 rows, 2 columns and 5 nonzeros\n",
      "Model fingerprint: 0x64581bc0\n",
      "Coefficient statistics:\n",
      "  Matrix range     [1e-02, 4e-02]\n",
      "  Objective range  [5e+05, 8e+05]\n",
      "  Bounds range     [0e+00, 0e+00]\n",
      "  RHS range        [3e-02, 1e-01]\n",
      "Presolve removed 1 rows and 0 columns\n",
      "Presolve time: 0.01s\n",
      "Presolved: 2 rows, 2 columns, 4 nonzeros\n",
      "\n",
      "Iteration    Objective       Primal Inf.    Dual Inf.      Time\n",
      "       0    3.2083333e+06   1.733333e-01   0.000000e+00      0s\n",
      "       1    3.5000000e+06   0.000000e+00   0.000000e+00      0s\n",
      "\n",
      "Solved in 1 iterations and 0.03 seconds (0.00 work units)\n",
      "Optimal objective  3.500000000e+06\n"
     ]
    }
   ],
   "source": [
    "#Use gurobi optimizer to find the optimal solution\n",
    "auto.optimize()"
   ]
  },
  {
   "cell_type": "code",
   "execution_count": 44,
   "id": "42074ec6",
   "metadata": {},
   "outputs": [
    {
     "data": {
      "text/plain": [
       "[<gurobi.Var Number of Commercials to run (value 4.0)>,\n",
       " <gurobi.Var Number of Magazine Ads to run (value 2.0)>]"
      ]
     },
     "execution_count": 44,
     "metadata": {},
     "output_type": "execute_result"
    }
   ],
   "source": [
    "#Get the VAriables\n",
    "auto.getVars()"
   ]
  },
  {
   "cell_type": "markdown",
   "id": "70b5f5ab",
   "metadata": {},
   "source": [
    "<b>Finally print the values of variables</b>"
   ]
  },
  {
   "cell_type": "code",
   "execution_count": 45,
   "id": "c6b23df4",
   "metadata": {},
   "outputs": [
    {
     "name": "stdout",
     "output_type": "stream",
     "text": [
      "Number of Commercials to run 4.0\n",
      "Number of Magazine Ads to run 2.0\n"
     ]
    }
   ],
   "source": [
    "for v in auto.getVars():\n",
    "    print(v.varName, v.x)"
   ]
  },
  {
   "cell_type": "markdown",
   "id": "b408bd08",
   "metadata": {},
   "source": [
    "<b>Summary</b>\n",
    "<p>To achieve the desired sales increase of Sedans, SUV and Trucks<br>\n",
    "of 3%,14%,4% respectively. American auto needs to run 4 Commercials<br>\n",
    "and 2 Magazine Ads for a total expense of $3.5 millions</p>"
   ]
  },
  {
   "cell_type": "markdown",
   "id": "7191dc86",
   "metadata": {},
   "source": [
    "<b>Part 2: Zippy motorcycle marketing cost minimizaiton problem</b>"
   ]
  },
  {
   "cell_type": "markdown",
   "id": "c1a2b8cd",
   "metadata": {},
   "source": [
    "<b>Model definition</b>"
   ]
  },
  {
   "cell_type": "code",
   "execution_count": 55,
   "id": "2139ad99",
   "metadata": {},
   "outputs": [],
   "source": [
    "zippy = Model('zippy')"
   ]
  },
  {
   "cell_type": "markdown",
   "id": "26e68d08",
   "metadata": {},
   "source": [
    "<b>Add Variables to the model</b>"
   ]
  },
  {
   "cell_type": "code",
   "execution_count": 56,
   "id": "67561935",
   "metadata": {},
   "outputs": [],
   "source": [
    "razor = zippy.addVar(name='Number_of_Razor_bike_produced')"
   ]
  },
  {
   "cell_type": "code",
   "execution_count": 57,
   "id": "a13093b5",
   "metadata": {},
   "outputs": [],
   "source": [
    "zoomer = zippy.addVar(name='Number_of_Zoomer_bike_produced')"
   ]
  },
  {
   "cell_type": "markdown",
   "id": "5a091e97",
   "metadata": {},
   "source": [
    "<b>Set Objective fucntion to the model</b>"
   ]
  },
  {
   "cell_type": "code",
   "execution_count": 49,
   "id": "d3ed086e",
   "metadata": {},
   "outputs": [],
   "source": [
    "zippy.setObjective(razor + zoomer, GRB.MAXIMIZE)"
   ]
  },
  {
   "cell_type": "markdown",
   "id": "a43b98f9",
   "metadata": {},
   "source": [
    "<b>Add constraints to the model</b>"
   ]
  },
  {
   "cell_type": "code",
   "execution_count": 58,
   "id": "71806131",
   "metadata": {},
   "outputs": [
    {
     "data": {
      "text/plain": [
       "<gurobi.Constr *Awaiting Model Update*>"
      ]
     },
     "execution_count": 58,
     "metadata": {},
     "output_type": "execute_result"
    }
   ],
   "source": [
    "zippy.addConstr(razor + zoomer <= 700, name='Total no of bikes')\n",
    "zippy.addConstr(razor - zoomer <= 300, name='Razor bike should not exceeed zoomer')\n",
    "zippy.addConstr(2*razor + zoomer == 900, name='Total quantity of polymer available')\n",
    "zippy.addConstr(3*razor + 4*zoomer == 2400, name='Total labor hours available')"
   ]
  },
  {
   "cell_type": "markdown",
   "id": "1bb46c48",
   "metadata": {},
   "source": [
    "<b>Save the model to a file</b>"
   ]
  },
  {
   "cell_type": "code",
   "execution_count": 59,
   "id": "427eaf3e",
   "metadata": {},
   "outputs": [
    {
     "name": "stdout",
     "output_type": "stream",
     "text": [
      "Warning: constraint name \"Total no of bikes\" has a space\n"
     ]
    }
   ],
   "source": [
    "zippy.write('Zippy-Bikes.lp')"
   ]
  },
  {
   "cell_type": "markdown",
   "id": "7839adc4",
   "metadata": {},
   "source": [
    "<b>Use Gurobi optimization</b>"
   ]
  },
  {
   "cell_type": "code",
   "execution_count": 60,
   "id": "836fc19f",
   "metadata": {},
   "outputs": [
    {
     "name": "stdout",
     "output_type": "stream",
     "text": [
      "Gurobi Optimizer version 10.0.1 build v10.0.1rc0 (win64)\n",
      "\n",
      "CPU model: Intel(R) Core(TM) i5-1035G7 CPU @ 1.20GHz, instruction set [SSE2|AVX|AVX2|AVX512]\n",
      "Thread count: 4 physical cores, 8 logical processors, using up to 8 threads\n",
      "\n",
      "Optimize a model with 4 rows, 2 columns and 8 nonzeros\n",
      "Model fingerprint: 0xad34d65d\n",
      "Coefficient statistics:\n",
      "  Matrix range     [1e+00, 4e+00]\n",
      "  Objective range  [0e+00, 0e+00]\n",
      "  Bounds range     [0e+00, 0e+00]\n",
      "  RHS range        [3e+02, 2e+03]\n",
      "Presolve removed 4 rows and 2 columns\n",
      "Presolve time: 0.01s\n",
      "Presolve: All rows and columns removed\n",
      "Iteration    Objective       Primal Inf.    Dual Inf.      Time\n",
      "       0    0.0000000e+00   0.000000e+00   0.000000e+00      0s\n",
      "\n",
      "Solved in 0 iterations and 0.02 seconds (0.00 work units)\n",
      "Optimal objective  0.000000000e+00\n"
     ]
    }
   ],
   "source": [
    "zippy.optimize()"
   ]
  },
  {
   "cell_type": "code",
   "execution_count": 61,
   "id": "12fe1025",
   "metadata": {},
   "outputs": [
    {
     "data": {
      "text/plain": [
       "[<gurobi.Var Number_of_Razor_bike_produced (value 240.0)>,\n",
       " <gurobi.Var Number_of_Zoomer_bike_produced (value 420.0)>]"
      ]
     },
     "execution_count": 61,
     "metadata": {},
     "output_type": "execute_result"
    }
   ],
   "source": [
    "zippy.getVars()"
   ]
  },
  {
   "cell_type": "markdown",
   "id": "25e04cce",
   "metadata": {},
   "source": [
    "<b>Get the values of variables</b>"
   ]
  },
  {
   "cell_type": "code",
   "execution_count": 62,
   "id": "0f217db4",
   "metadata": {},
   "outputs": [
    {
     "name": "stdout",
     "output_type": "stream",
     "text": [
      "Number_of_Razor_bike_produced 240.0\n",
      "Number_of_Zoomer_bike_produced 420.0\n"
     ]
    }
   ],
   "source": [
    "for v in zippy.getVars():\n",
    "    print(v.varName, v.x)"
   ]
  },
  {
   "cell_type": "markdown",
   "id": "bcddf864",
   "metadata": {},
   "source": [
    "<b>Summary</b>\n",
    "<p>Zippy motorcycle can pproduce 240 Razor bikes<br>\n",
    "and 420 Zoomer bikes for a total profit of $33600</p>"
   ]
  }
 ],
 "metadata": {
  "kernelspec": {
   "display_name": "Python 3 (ipykernel)",
   "language": "python",
   "name": "python3"
  },
  "language_info": {
   "codemirror_mode": {
    "name": "ipython",
    "version": 3
   },
   "file_extension": ".py",
   "mimetype": "text/x-python",
   "name": "python",
   "nbconvert_exporter": "python",
   "pygments_lexer": "ipython3",
   "version": "3.10.9"
  }
 },
 "nbformat": 4,
 "nbformat_minor": 5
}
